{
 "cells": [
  {
   "cell_type": "markdown",
   "id": "af76d126-f073-4828-9b87-98802f57f190",
   "metadata": {},
   "source": [
    "## 1.Implement the bubble sort algo using classes and methods\n"
   ]
  },
  {
   "cell_type": "code",
   "execution_count": 3,
   "id": "73531f32-751a-4010-8cd6-f6b50a8ea992",
   "metadata": {},
   "outputs": [
    {
     "name": "stdout",
     "output_type": "stream",
     "text": [
      "Sorted array: [11, 12, 22, 25, 34, 64, 90]\n"
     ]
    }
   ],
   "source": [
    "class BubbleSort:\n",
    "    def __init__(self, data):\n",
    "        self.data = data\n",
    "\n",
    "    def sort(self):\n",
    "        n = len(self.data)\n",
    "        for i in range(n):\n",
    "            for j in range(0, n - i - 1):\n",
    "                if self.data[j] > self.data[j + 1]:\n",
    "                    self.data[j], self.data[j + 1] = self.data[j + 1], self.data[j]\n",
    "\n",
    "    def get_sorted_data(self):\n",
    "        return self.data\n",
    "\n",
    "\n",
    "# Example usage:\n",
    "data = [64, 34, 25, 12, 22, 11, 90]\n",
    "bubble_sort = BubbleSort(data)\n",
    "bubble_sort.sort()\n",
    "print(\"Sorted array:\", bubble_sort.get_sorted_data())\n"
   ]
  },
  {
   "cell_type": "markdown",
   "id": "ec9c1b38-570c-43bf-aa32-0874ae56b7c6",
   "metadata": {},
   "source": [
    "## 2.Implement the insertion sort using Python\n"
   ]
  },
  {
   "cell_type": "code",
   "execution_count": 7,
   "id": "3a74a8a7-19a0-4b94-8463-20ce09202d59",
   "metadata": {},
   "outputs": [
    {
     "name": "stdout",
     "output_type": "stream",
     "text": [
      "Sorted array: [5, 6, 11, 12, 13]\n"
     ]
    }
   ],
   "source": [
    "def insertion_sort(data):\n",
    "    for i in range(1, len(data)):\n",
    "        key = data[i]\n",
    "        j = i - 1\n",
    "        while j >= 0 and key < data[j]:\n",
    "            data[j + 1] = data[j]\n",
    "            j -= 1\n",
    "        data[j + 1] = key\n",
    "    return data\n",
    "\n",
    "\n",
    "# Example usage:\n",
    "data = [12, 11, 13, 5, 6]\n",
    "print(\"Sorted array:\", insertion_sort(data))\n"
   ]
  },
  {
   "cell_type": "markdown",
   "id": "9a4c8146-f56e-4fbe-9335-04d4f72d8258",
   "metadata": {},
   "source": [
    "## 3.Implement the selection sort using Python\n"
   ]
  },
  {
   "cell_type": "code",
   "execution_count": 10,
   "id": "0564329b-1953-4a37-946a-b02539a84087",
   "metadata": {},
   "outputs": [
    {
     "name": "stdout",
     "output_type": "stream",
     "text": [
      "Sorted array: [11, 12, 22, 25, 64]\n"
     ]
    }
   ],
   "source": [
    "def selection_sort(data):\n",
    "    for i in range(len(data)):\n",
    "        min_idx = i\n",
    "        for j in range(i + 1, len(data)):\n",
    "            if data[j] < data[min_idx]:\n",
    "                min_idx = j\n",
    "        data[i], data[min_idx] = data[min_idx], data[i]\n",
    "    return data\n",
    "\n",
    "\n",
    "# Example usage:\n",
    "data = [64, 25, 12, 22, 11]\n",
    "print(\"Sorted array:\", selection_sort(data))\n"
   ]
  },
  {
   "cell_type": "markdown",
   "id": "43ac22e8-b1fe-4d23-9209-959f75403974",
   "metadata": {},
   "source": [
    "## 4.Implement the merge sort or quick sort\n"
   ]
  },
  {
   "cell_type": "code",
   "execution_count": 13,
   "id": "5306e5ad-f166-442a-bb4e-8c58b436a7a8",
   "metadata": {},
   "outputs": [
    {
     "name": "stdout",
     "output_type": "stream",
     "text": [
      "Sorted array: [3, 9, 10, 27, 38, 43, 82]\n"
     ]
    }
   ],
   "source": [
    "def merge_sort(data):\n",
    "    if len(data) > 1:\n",
    "        mid = len(data) // 2\n",
    "        left_half = data[:mid]\n",
    "        right_half = data[mid:]\n",
    "\n",
    "        merge_sort(left_half)\n",
    "        merge_sort(right_half)\n",
    "\n",
    "        i = j = k = 0\n",
    "\n",
    "        while i < len(left_half) and j < len(right_half):\n",
    "            if left_half[i] < right_half[j]:\n",
    "                data[k] = left_half[i]\n",
    "                i += 1\n",
    "            else:\n",
    "                data[k] = right_half[j]\n",
    "                j += 1\n",
    "            k += 1\n",
    "\n",
    "        while i < len(left_half):\n",
    "            data[k] = left_half[i]\n",
    "            i += 1\n",
    "            k += 1\n",
    "\n",
    "        while j < len(right_half):\n",
    "            data[k] = right_half[j]\n",
    "            j += 1\n",
    "            k += 1\n",
    "\n",
    "\n",
    "# Example usage:\n",
    "data = [38, 27, 43, 3, 9, 82, 10]\n",
    "merge_sort(data)\n",
    "print(\"Sorted array:\", data)\n"
   ]
  },
  {
   "cell_type": "markdown",
   "id": "762bd87c-5f83-48cd-a7b1-4cfe4d5cc53b",
   "metadata": {},
   "source": [
    "## 5.Implement the linear search algorithm using python\n"
   ]
  },
  {
   "cell_type": "code",
   "execution_count": 16,
   "id": "04affc23-9090-451d-9756-a9dbe83d2ee8",
   "metadata": {},
   "outputs": [
    {
     "name": "stdout",
     "output_type": "stream",
     "text": [
      "Element found at index: 3\n"
     ]
    }
   ],
   "source": [
    "def linear_search(data, target):\n",
    "    for i in range(len(data)):\n",
    "        if data[i] == target:\n",
    "            return i\n",
    "    return -1\n",
    "\n",
    "\n",
    "# Example usage:\n",
    "data = [2, 4, 0, 1, 9]\n",
    "target = 1\n",
    "result = linear_search(data, target)\n",
    "print(\"Element found at index:\" if result != -1 else \"Element not found.\", result)\n"
   ]
  },
  {
   "cell_type": "markdown",
   "id": "db64a604-b363-4d8f-b008-13504d01bc13",
   "metadata": {},
   "source": [
    "## 6.Implement the binary search using Python (Element should be sorted)"
   ]
  },
  {
   "cell_type": "code",
   "execution_count": 19,
   "id": "8e63306c-62b0-42b6-8357-4acdc3479384",
   "metadata": {},
   "outputs": [
    {
     "name": "stdout",
     "output_type": "stream",
     "text": [
      "Element found at index: 3\n"
     ]
    }
   ],
   "source": [
    "def binary_search(data, target):\n",
    "    low, high = 0, len(data) - 1\n",
    "\n",
    "    while low <= high:\n",
    "        mid = (low + high) // 2\n",
    "        if data[mid] == target:\n",
    "            return mid\n",
    "        elif data[mid] < target:\n",
    "            low = mid + 1\n",
    "        else:\n",
    "            high = mid - 1\n",
    "    return -1\n",
    "\n",
    "\n",
    "# Example usage:\n",
    "data = [1, 2, 3, 4, 5]\n",
    "target = 4\n",
    "result = binary_search(data, target)\n",
    "print(\"Element found at index:\" if result != -1 else \"Element not found.\", result)\n"
   ]
  },
  {
   "cell_type": "markdown",
   "id": "232705b4-d73e-439e-8ea0-65f53b1e4fe2",
   "metadata": {},
   "source": [
    "## 7.Implement the binary tree using python"
   ]
  },
  {
   "cell_type": "code",
   "execution_count": 22,
   "id": "85854af0-ffc7-4fdf-bb24-4412f71364d5",
   "metadata": {},
   "outputs": [
    {
     "name": "stdout",
     "output_type": "stream",
     "text": [
      "Inorder traversal:\n",
      "20 30 40 50 60 70 80 "
     ]
    }
   ],
   "source": [
    "class Node:\n",
    "    def __init__(self, key):\n",
    "        self.left = None\n",
    "        self.right = None\n",
    "        self.value = key\n",
    "\n",
    "\n",
    "class BinaryTree:\n",
    "    def __init__(self):\n",
    "        self.root = None\n",
    "\n",
    "    def insert(self, root, key):\n",
    "        if root is None:\n",
    "            return Node(key)\n",
    "        else:\n",
    "            if key < root.value:\n",
    "                root.left = self.insert(root.left, key)\n",
    "            else:\n",
    "                root.right = self.insert(root.right, key)\n",
    "        return root\n",
    "\n",
    "    def inorder(self, root):\n",
    "        if root:\n",
    "            self.inorder(root.left)\n",
    "            print(root.value, end=\" \")\n",
    "            self.inorder(root.right)\n",
    "\n",
    "\n",
    "# Example usage:\n",
    "tree = BinaryTree()\n",
    "root = None\n",
    "root = tree.insert(root, 50)\n",
    "tree.insert(root, 30)\n",
    "tree.insert(root, 70)\n",
    "tree.insert(root, 20)\n",
    "tree.insert(root, 40)\n",
    "tree.insert(root, 60)\n",
    "tree.insert(root, 80)\n",
    "\n",
    "print(\"Inorder traversal:\")\n",
    "tree.inorder(root)\n"
   ]
  },
  {
   "cell_type": "code",
   "execution_count": null,
   "id": "24d19b22-c464-4c14-aa66-1fa1563eaa2e",
   "metadata": {},
   "outputs": [],
   "source": []
  }
 ],
 "metadata": {
  "kernelspec": {
   "display_name": "Python 3 (ipykernel)",
   "language": "python",
   "name": "python3"
  },
  "language_info": {
   "codemirror_mode": {
    "name": "ipython",
    "version": 3
   },
   "file_extension": ".py",
   "mimetype": "text/x-python",
   "name": "python",
   "nbconvert_exporter": "python",
   "pygments_lexer": "ipython3",
   "version": "3.12.4"
  }
 },
 "nbformat": 4,
 "nbformat_minor": 5
}
