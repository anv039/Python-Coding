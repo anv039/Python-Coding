{
 "cells": [
  {
   "cell_type": "markdown",
   "id": "215bab1e-81d6-4a28-bbd9-30eec21a0f81",
   "metadata": {},
   "source": [
    "# Date 27 Sept Lab 6"
   ]
  },
  {
   "cell_type": "markdown",
   "id": "a0c543f0-72fc-4868-82fc-df755650892c",
   "metadata": {},
   "source": [
    "### WAP in Pyhon to use various inbuild funcions of list"
   ]
  },
  {
   "cell_type": "code",
   "execution_count": 6,
   "id": "61cf024f-607a-4deb-94ca-84a1fbd7e3ef",
   "metadata": {},
   "outputs": [
    {
     "name": "stdout",
     "output_type": "stream",
     "text": [
      "After append: [10, 20, 30, 40, 50, 60]\n",
      "After extend: [10, 20, 30, 40, 50, 60, 70, 80, 90]\n",
      "After insert: [5, 10, 20, 30, 40, 50, 60, 70, 80, 90]\n",
      "After remove: [5, 10, 20, 40, 50, 60, 70, 80, 90]\n",
      "Popped item: 90\n",
      "After pop: [5, 10, 20, 40, 50, 60, 70, 80]\n",
      "After sort: [5, 10, 20, 40, 50, 60, 70, 80]\n",
      "After reverse: [80, 70, 60, 50, 40, 20, 10, 5]\n",
      "Index of 40: 4\n",
      "Count of 50: 1\n",
      "Final list: [80, 70, 60, 50, 40, 20, 10, 5]\n"
     ]
    }
   ],
   "source": [
    "# Initialize a list\n",
    "my_list = [10, 20, 30, 40, 50]\n",
    "\n",
    "# Append an item to the list\n",
    "my_list.append(60)\n",
    "print(\"After append:\", my_list)\n",
    "\n",
    "# Extend the list with another list\n",
    "my_list.extend([70, 80, 90])\n",
    "print(\"After extend:\", my_list)\n",
    "\n",
    "# Insert an item at a specific position\n",
    "my_list.insert(0, 5)\n",
    "print(\"After insert:\", my_list)\n",
    "\n",
    "# Remove an item by value\n",
    "my_list.remove(30)\n",
    "print(\"After remove:\", my_list)\n",
    "\n",
    "# Pop an item (remove and return the last item)\n",
    "popped_item = my_list.pop()\n",
    "print(\"Popped item:\", popped_item)\n",
    "print(\"After pop:\", my_list)\n",
    "\n",
    "# Sort the list\n",
    "my_list.sort()\n",
    "print(\"After sort:\", my_list)\n",
    "\n",
    "# Reverse the list\n",
    "my_list.reverse()\n",
    "print(\"After reverse:\", my_list)\n",
    "\n",
    "# Find the index of an item\n",
    "index_of_40 = my_list.index(40)\n",
    "print(\"Index of 40:\", index_of_40)\n",
    "\n",
    "# Count the occurrences of an item\n",
    "count_of_50 = my_list.count(50)\n",
    "print(\"Count of 50:\", count_of_50)\n",
    "\n",
    "# Final state of the list\n",
    "print(\"Final list:\", my_list)\n"
   ]
  },
  {
   "cell_type": "markdown",
   "id": "0855a69d-adc3-4510-b5a2-788f922d93ad",
   "metadata": {},
   "source": [
    "### WAP in python to pass the list as an argument in the Function\n"
   ]
  },
  {
   "cell_type": "code",
   "execution_count": 10,
   "id": "87115e02-0437-49df-9540-363bb6d7ecdd",
   "metadata": {},
   "outputs": [
    {
     "name": "stdout",
     "output_type": "stream",
     "text": [
      "Sum of the list: 150\n",
      "Maximum value in the list: 50\n",
      "Minimum value in the list: 10\n",
      "Number of elements in the list: 5\n",
      "The list is not empty.\n"
     ]
    }
   ],
   "source": [
    "def list_operations(input_list):\n",
    "    # Calculate the sum of the list\n",
    "    total_sum = sum(input_list)\n",
    "    print(\"Sum of the list:\", total_sum)\n",
    "\n",
    "    # Find the maximum value\n",
    "    max_value = max(input_list)\n",
    "    print(\"Maximum value in the list:\", max_value)\n",
    "\n",
    "    # Find the minimum value\n",
    "    min_value = min(input_list)\n",
    "    print(\"Minimum value in the list:\", min_value)\n",
    "\n",
    "    # Count the number of elements in the list\n",
    "    count = len(input_list)\n",
    "    print(\"Number of elements in the list:\", count)\n",
    "\n",
    "    # Check if the list is empty\n",
    "    if input_list:\n",
    "        print(\"The list is not empty.\")\n",
    "    else:\n",
    "        print(\"The list is empty.\")\n",
    "\n",
    "# Example list\n",
    "my_list = [10, 20, 30, 40, 50]\n",
    "\n",
    "# Call the function with the list as an argument\n",
    "list_operations(my_list)\n"
   ]
  },
  {
   "cell_type": "markdown",
   "id": "b275ca23-0cdc-4922-8c5e-79ffc6e12c60",
   "metadata": {},
   "source": [
    "### Wap to take in variable length arguments in function and perform cube of each element"
   ]
  },
  {
   "cell_type": "code",
   "execution_count": 6,
   "id": "031c205c-da5c-4f43-9b8a-564b8b89758e",
   "metadata": {},
   "outputs": [
    {
     "name": "stdin",
     "output_type": "stream",
     "text": [
      "Enter numbers separated by spaces:  5 6 4\n"
     ]
    },
    {
     "name": "stdout",
     "output_type": "stream",
     "text": [
      "[125, 216, 64]\n"
     ]
    }
   ],
   "source": [
    "def cube_of_elements(*args):\n",
    "    cubes = [x ** 3 for x in args]\n",
    "    return cubes\n",
    "\n",
    "user_input = input(\"Enter numbers separated by spaces: \")\n",
    "numbers = map(int, user_input.split())\n",
    "\n",
    "result = cube_of_elements(*numbers)\n",
    "print(result)"
   ]
  },
  {
   "cell_type": "markdown",
   "id": "ccf16114-1fd7-45f7-9fad-82a3cc9e0192",
   "metadata": {},
   "source": [
    "### WAP for solving the tower of Hanoi problem for n=3 ?"
   ]
  },
  {
   "cell_type": "code",
   "execution_count": 9,
   "id": "505fd985-d271-4e1b-a641-ebf13c72f669",
   "metadata": {},
   "outputs": [
    {
     "name": "stdout",
     "output_type": "stream",
     "text": [
      "Move disk 1 from A to C\n",
      "Move disk 2 from A to B\n",
      "Move disk 1 from C to B\n",
      "Move disk 3 from A to C\n",
      "Move disk 1 from B to A\n",
      "Move disk 2 from B to C\n",
      "Move disk 1 from A to C\n"
     ]
    }
   ],
   "source": [
    "def tower_of_hanoi(n, source, target, auxiliary):\n",
    "    if n == 1:\n",
    "        print(f\"Move disk 1 from {source} to {target}\")\n",
    "        return\n",
    "    tower_of_hanoi(n - 1, source, auxiliary, target)\n",
    "    print(f\"Move disk {n} from {source} to {target}\")\n",
    "    tower_of_hanoi(n - 1, auxiliary, target, source)\n",
    "\n",
    "n = 3\n",
    "tower_of_hanoi(n, 'A', 'C', 'B')\n"
   ]
  },
  {
   "cell_type": "markdown",
   "id": "5645bcf5-d8e4-474a-b292-333d9904f1a1",
   "metadata": {},
   "source": [
    "### WAP that accepts string and calculate the number of uppercase and lowercase letters in string ?"
   ]
  },
  {
   "cell_type": "code",
   "execution_count": 13,
   "id": "b19b14e9-ed21-481b-a13e-c843afb62a41",
   "metadata": {},
   "outputs": [
    {
     "name": "stdin",
     "output_type": "stream",
     "text": [
      "Enter a string:  HEllio\n"
     ]
    },
    {
     "name": "stdout",
     "output_type": "stream",
     "text": [
      "Number of uppercase letters: 2\n",
      "Number of lowercase letters: 4\n"
     ]
    }
   ],
   "source": [
    "def count_case(s):\n",
    "    upper_count = 0\n",
    "    lower_count = 0\n",
    "    \n",
    "    for char in s:\n",
    "        if char.isupper():\n",
    "            upper_count += 1\n",
    "        elif char.islower():\n",
    "            lower_count += 1\n",
    "            \n",
    "    return upper_count, lower_count\n",
    "\n",
    "input_string = input(\"Enter a string: \")\n",
    "upper, lower = count_case(input_string)\n",
    "\n",
    "print(f\"Number of uppercase letters: {upper}\")\n",
    "print(f\"Number of lowercase letters: {lower}\")\n"
   ]
  },
  {
   "cell_type": "code",
   "execution_count": null,
   "id": "32420c8a-eec4-487e-ae8b-012254ad8443",
   "metadata": {},
   "outputs": [],
   "source": []
  }
 ],
 "metadata": {
  "kernelspec": {
   "display_name": "anaconda-2024.02-py310",
   "language": "python",
   "name": "conda-env-anaconda-2024.02-py310-py"
  },
  "language_info": {
   "codemirror_mode": {
    "name": "ipython",
    "version": 3
   },
   "file_extension": ".py",
   "mimetype": "text/x-python",
   "name": "python",
   "nbconvert_exporter": "python",
   "pygments_lexer": "ipython3",
   "version": "3.10.14"
  }
 },
 "nbformat": 4,
 "nbformat_minor": 5
}
