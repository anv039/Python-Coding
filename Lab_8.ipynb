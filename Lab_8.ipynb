{
 "cells": [
  {
   "cell_type": "markdown",
   "id": "47c80b6c-08bd-41db-a072-906fa89abd2c",
   "metadata": {},
   "source": [
    "## Excepiton Handling In Python"
   ]
  },
  {
   "cell_type": "code",
   "execution_count": 5,
   "id": "903a4a82-5565-4e35-8291-d300e87e4725",
   "metadata": {},
   "outputs": [
    {
     "name": "stdin",
     "output_type": "stream",
     "text": [
      "Enter any value in the 10 to 50 range:  25\n"
     ]
    },
    {
     "name": "stdout",
     "output_type": "stream",
     "text": [
      "Great! Value is in the correct range.\n"
     ]
    }
   ],
   "source": [
    "class Error(Exception):\n",
    "    \"\"\"Base class for other exceptions\"\"\"\n",
    "    pass\n",
    "\n",
    "class ValueTooSmallError(Error):\n",
    "    \"\"\"Raised when the input value is too small\"\"\"\n",
    "    pass\n",
    "\n",
    "class ValueTooLargeError(Error):\n",
    "    \"\"\"Raised when the input value is too large\"\"\"\n",
    "    pass\n",
    "\n",
    "while True:\n",
    "    try:\n",
    "        num = int(input(\"Enter any value in the 10 to 50 range: \"))\n",
    "        if num < 10:\n",
    "            raise ValueTooSmallError\n",
    "        elif num > 50:\n",
    "            raise ValueTooLargeError\n",
    "        break\n",
    "    except ValueTooSmallError:\n",
    "        print(\"Value is below the range.. try again\")\n",
    "    except ValueTooLargeError:\n",
    "        print(\"Value is above the range.. try again\")\n",
    "    except ValueError:\n",
    "        print(\"Invalid input. Please enter an integer.\")\n",
    "\n",
    "print(\"Great! Value is in the correct range.\")\n"
   ]
  },
  {
   "cell_type": "code",
   "execution_count": 7,
   "id": "bf8d7a57-9cc9-4fdb-9fbe-67a2f8776cbf",
   "metadata": {},
   "outputs": [
    {
     "name": "stdout",
     "output_type": "stream",
     "text": [
      "Can't divide by zero. Provide a different number.\n"
     ]
    }
   ],
   "source": [
    "try:\n",
    "    a = 10\n",
    "    b = 0\n",
    "    c = a / b\n",
    "    print(\"The answer of a divided by b:\", c)\n",
    "except ZeroDivisionError:\n",
    "    print(\"Can't divide by zero. Provide a different number.\")\n"
   ]
  },
  {
   "cell_type": "code",
   "execution_count": 9,
   "id": "9b6f2d5c-f0ed-41e3-a955-b107cab18df0",
   "metadata": {},
   "outputs": [
    {
     "name": "stdin",
     "output_type": "stream",
     "text": [
      "Enter value of a:  15\n",
      "Enter value of b:  10\n"
     ]
    },
    {
     "name": "stdout",
     "output_type": "stream",
     "text": [
      "The answer of a divided by b: 1.5\n"
     ]
    }
   ],
   "source": [
    "try:\n",
    "    a = int(input(\"Enter value of a: \"))\n",
    "    b = int(input(\"Enter value of b: \"))\n",
    "    c = a / b\n",
    "    print(\"The answer of a divided by b:\", c)\n",
    "except ValueError:\n",
    "    print(\"Entered value is wrong. Please enter valid integers.\")\n",
    "except ZeroDivisionError:\n",
    "    print(\"Can't divide by zero.\")\n"
   ]
  },
  {
   "cell_type": "code",
   "execution_count": 11,
   "id": "a2f1a9e2-c236-443c-ab2f-d2282ede3db0",
   "metadata": {},
   "outputs": [
    {
     "name": "stdin",
     "output_type": "stream",
     "text": [
      "Enter value of a:  10\n",
      "Enter value of b:  50\n"
     ]
    },
    {
     "name": "stdout",
     "output_type": "stream",
     "text": [
      "The answer of a divided by b: 0.2\n"
     ]
    }
   ],
   "source": [
    "try:\n",
    "    a = int(input(\"Enter value of a: \"))\n",
    "    b = int(input(\"Enter value of b: \"))\n",
    "    c = a / b\n",
    "    print(\"The answer of a divided by b:\", c)\n",
    "except (ValueError, ZeroDivisionError):\n",
    "    print(\"Please enter a valid value. Make sure not to divide by zero and use valid integers.\")\n"
   ]
  },
  {
   "cell_type": "code",
   "execution_count": 13,
   "id": "87411159-a688-4ada-ae64-f9e47d8e9881",
   "metadata": {},
   "outputs": [
    {
     "name": "stdin",
     "output_type": "stream",
     "text": [
      "Enter value of a:  10\n",
      "Enter value of b:  50\n"
     ]
    },
    {
     "name": "stdout",
     "output_type": "stream",
     "text": [
      "The answer of a divided by b: 0.2\n",
      "Inside the finally block.\n"
     ]
    }
   ],
   "source": [
    "try:\n",
    "    a = int(input(\"Enter value of a: \"))\n",
    "    b = int(input(\"Enter value of b: \"))\n",
    "    c = a / b\n",
    "    print(\"The answer of a divided by b:\", c)\n",
    "except ZeroDivisionError:\n",
    "    print(\"Can't divide by zero.\")\n",
    "except ValueError:\n",
    "    print(\"Invalid input. Please enter an integer.\")\n",
    "finally:\n",
    "    print(\"Inside the finally block.\")\n"
   ]
  },
  {
   "cell_type": "code",
   "execution_count": 15,
   "id": "008489b5-7f1d-46d4-9ca5-2a7e1ce15777",
   "metadata": {},
   "outputs": [
    {
     "name": "stdin",
     "output_type": "stream",
     "text": [
      "Enter value of a:  70\n",
      "Enter value of b:  50\n"
     ]
    },
    {
     "name": "stdout",
     "output_type": "stream",
     "text": [
      "a/b = 1.400000\n",
      "We are in the else block.\n"
     ]
    }
   ],
   "source": [
    "try:\n",
    "    a = int(input(\"Enter value of a: \"))\n",
    "    b = int(input(\"Enter value of b: \"))\n",
    "    c = a / b\n",
    "    print(\"a/b = %f\" % c)  # Using %f for floating-point division\n",
    "except ZeroDivisionError:\n",
    "    print(\"Can't divide by zero.\")\n",
    "except ValueError:\n",
    "    print(\"Invalid input. Please enter an integer.\")\n",
    "else:\n",
    "    print(\"We are in the else block.\")\n"
   ]
  },
  {
   "cell_type": "code",
   "execution_count": 17,
   "id": "52016676-5ec6-45f6-8b17-f9ddf15879a0",
   "metadata": {},
   "outputs": [
    {
     "name": "stdout",
     "output_type": "stream",
     "text": [
      "Case 1\n",
      "The Simple Interest is 384.0\n",
      "Case 2\n",
      "Interest rate is out of range: 800\n"
     ]
    }
   ],
   "source": [
    "def simple_interest(amount, year, rate):\n",
    "    try:\n",
    "        if rate > 100:\n",
    "            raise ValueError(rate)\n",
    "        interest = (amount * year * rate) / 100\n",
    "        print('The Simple Interest is', interest)\n",
    "        return interest\n",
    "    except ValueError:\n",
    "        print('Interest rate is out of range:', rate)\n",
    "\n",
    "# Test cases\n",
    "print('Case 1')\n",
    "simple_interest(800, 6, 8)\n",
    "\n",
    "print('Case 2')\n",
    "simple_interest(800, 6, 800)\n"
   ]
  },
  {
   "cell_type": "code",
   "execution_count": 19,
   "id": "2db6931a-7b61-4ebc-b5b7-0015cbba2e42",
   "metadata": {},
   "outputs": [
    {
     "name": "stdin",
     "output_type": "stream",
     "text": [
      "Enter value of a:  10\n",
      "Enter value of b:  65\n"
     ]
    },
    {
     "name": "stdout",
     "output_type": "stream",
     "text": [
      "The answer of a divided by b: 0.15384615384615385\n"
     ]
    }
   ],
   "source": [
    "try:\n",
    "    a = int(input(\"Enter value of a: \"))\n",
    "    b = int(input(\"Enter value of b: \"))\n",
    "    c = a / b\n",
    "    print(\"The answer of a divided by b:\", c)\n",
    "except ZeroDivisionError as e:\n",
    "    raise ValueError(\"Division failed\") from e\n"
   ]
  },
  {
   "cell_type": "code",
   "execution_count": 21,
   "id": "0e96a472-c561-4bdd-8d30-59a9f07a2311",
   "metadata": {},
   "outputs": [
    {
     "name": "stdout",
     "output_type": "stream",
     "text": [
      "Average: 30.0\n",
      "Average: 300.0\n",
      "The list is empty, cannot divide by zero\n"
     ]
    }
   ],
   "source": [
    "def sum_of_list(numbers):\n",
    "    return sum(numbers)\n",
    "\n",
    "def average(sum, n):\n",
    "    # Handle ZeroDivisionError if the list is empty\n",
    "    if n == 0:\n",
    "        raise ZeroDivisionError(\"The list is empty, cannot divide by zero\")\n",
    "    return sum / n\n",
    "\n",
    "def final_data(data):\n",
    "    for item in data:\n",
    "        try:\n",
    "            avg = average(sum_of_list(item), len(item))\n",
    "            print(\"Average:\", avg)\n",
    "        except ZeroDivisionError as e:\n",
    "            print(e)\n",
    "\n",
    "list1 = [10, 20, 30, 40, 50]\n",
    "list2 = [100, 200, 300, 400, 500]\n",
    "list3 = []  # empty list\n",
    "lists = [list1, list2, list3]\n",
    "\n",
    "final_data(lists)\n"
   ]
  },
  {
   "cell_type": "code",
   "execution_count": null,
   "id": "ac3683de-e22b-43b1-93bc-8da6e96ac831",
   "metadata": {},
   "outputs": [],
   "source": []
  }
 ],
 "metadata": {
  "kernelspec": {
   "display_name": "Python 3 (ipykernel)",
   "language": "python",
   "name": "python3"
  },
  "language_info": {
   "codemirror_mode": {
    "name": "ipython",
    "version": 3
   },
   "file_extension": ".py",
   "mimetype": "text/x-python",
   "name": "python",
   "nbconvert_exporter": "python",
   "pygments_lexer": "ipython3",
   "version": "3.12.4"
  }
 },
 "nbformat": 4,
 "nbformat_minor": 5
}
