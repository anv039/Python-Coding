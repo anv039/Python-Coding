{
 "cells": [
  {
   "cell_type": "code",
   "execution_count": 9,
   "id": "76bdf4fc-5517-42c2-9fea-9144436cbee8",
   "metadata": {},
   "outputs": [
    {
     "name": "stdout",
     "output_type": "stream",
     "text": [
      "10 20 Abhay bisht\n"
     ]
    }
   ],
   "source": [
    "a=10\n",
    "b=20\n",
    "c='Abhay'\n",
    "bisht='bisht'\n",
    "v=bisht\n",
    "print(a,b,c,v)"
   ]
  },
  {
   "cell_type": "markdown",
   "id": "0292b71b-6538-470a-8441-0dfac1657ed3",
   "metadata": {},
   "source": [
    "## Taking inputs"
   ]
  },
  {
   "cell_type": "code",
   "execution_count": 22,
   "id": "f616364b-70e4-484b-957e-561c3b4f1c9d",
   "metadata": {},
   "outputs": [
    {
     "name": "stdin",
     "output_type": "stream",
     "text": [
      "Enter any intger :  10\n"
     ]
    },
    {
     "name": "stdout",
     "output_type": "stream",
     "text": [
      "Value o a is :  10\n"
     ]
    },
    {
     "name": "stdin",
     "output_type": "stream",
     "text": [
      "Enter any float : 10.0\n"
     ]
    },
    {
     "name": "stdout",
     "output_type": "stream",
     "text": [
      "value of b is :  10.0\n"
     ]
    },
    {
     "name": "stdin",
     "output_type": "stream",
     "text": [
      "emter any string : 23\n"
     ]
    },
    {
     "name": "stdout",
     "output_type": "stream",
     "text": [
      "Value of c is :  23\n"
     ]
    },
    {
     "name": "stdin",
     "output_type": "stream",
     "text": [
      "Enter any integer  : 10\n"
     ]
    },
    {
     "name": "stdout",
     "output_type": "stream",
     "text": [
      "The vlue of d is : 10\n"
     ]
    },
    {
     "name": "stdin",
     "output_type": "stream",
     "text": [
      "Enter any float  : 30.0\n"
     ]
    },
    {
     "name": "stdout",
     "output_type": "stream",
     "text": [
      "The vlue of e is : 30.0\n"
     ]
    },
    {
     "name": "stdin",
     "output_type": "stream",
     "text": [
      "Enter any string  : 'Anant'\n"
     ]
    },
    {
     "name": "stdout",
     "output_type": "stream",
     "text": [
      "The vlue of f is : Anant\n"
     ]
    }
   ],
   "source": [
    "a=int(input('Enter any intger : '))\n",
    "print('Value o a is : ',a)\n",
    "b=float(input('Enter any float :'))\n",
    "print('value of b is : ',b)\n",
    "c=input('emter any string :')\n",
    "print(\"Value of c is : \",c)\n",
    "d=eval(input('Enter any integer  :'))\n",
    "print('The vlue of d is :',d)\n",
    "e=eval(input('Enter any float  :'))\n",
    "print('The vlue of e is :',e)\n",
    "f=eval(input('Enter any string  :'))\n",
    "print('The vlue of f is :',f)"
   ]
  },
  {
   "cell_type": "markdown",
   "id": "af84cea6-1814-4bfc-8640-b5b387efea06",
   "metadata": {},
   "source": [
    "## Decision making statement\n"
   ]
  },
  {
   "cell_type": "code",
   "execution_count": 28,
   "id": "c6f0927a-4ab1-4b7d-bec1-3a79da7674dc",
   "metadata": {},
   "outputs": [
    {
     "name": "stdout",
     "output_type": "stream",
     "text": [
      "Welcome at muj\n"
     ]
    }
   ],
   "source": [
    "cgpa=7.0\n",
    "if cgpa>6.0:\n",
    "    print(\"Welcome at muj\")\n",
    "else:\n",
    "    print(\"Your application is denied\")"
   ]
  },
  {
   "cell_type": "code",
   "execution_count": 34,
   "id": "4a02d0c8-366c-4223-a3d1-0486d4e4c166",
   "metadata": {},
   "outputs": [
    {
     "name": "stdout",
     "output_type": "stream",
     "text": [
      "your application is dennied\n"
     ]
    }
   ],
   "source": [
    "cgpa=7.0\n",
    "print(\"Welcome at MUJ !\" if cgpa>8.0 else \"Your Application is denied\")"
   ]
  },
  {
   "cell_type": "code",
   "execution_count": 38,
   "id": "601e8d51-ab7a-4cca-9f8d-80c3e8cc613d",
   "metadata": {},
   "outputs": [
    {
     "name": "stdin",
     "output_type": "stream",
     "text": [
      "Enter am integer :  10\n"
     ]
    },
    {
     "name": "stdout",
     "output_type": "stream",
     "text": [
      "It is even\n"
     ]
    }
   ],
   "source": [
    "check=int(input('Enter am integer : '))\n",
    "if check%2==0:\n",
    "    print('It is even')\n",
    "else : \n",
    "    print('It is odd')"
   ]
  },
  {
   "cell_type": "markdown",
   "id": "d15e7e5f-57e0-42c7-a015-1f1ada023b35",
   "metadata": {},
   "source": [
    "## Nested If Else"
   ]
  },
  {
   "cell_type": "code",
   "execution_count": 42,
   "id": "0b1dfdd6-e5b9-4c6f-a5cb-19088f4a94dc",
   "metadata": {},
   "outputs": [
    {
     "name": "stdout",
     "output_type": "stream",
     "text": [
      "Exp value is less than 200\n",
      "Which is 100\n",
      "Good bye !!!!\n"
     ]
    }
   ],
   "source": [
    "var=100\n",
    "if var<200:\n",
    "    print('Exp value is less than 200')\n",
    "    if var==150:\n",
    "        print('Which is 150')\n",
    "    elif var==100:\n",
    "        print('Which is 100')\n",
    "    elif var==50:\n",
    "        print('Which is 50')\n",
    "    elif var<50:\n",
    "        print('Exp value is less than 50')\n",
    "    else:\n",
    "        print('Could not find the true expression')\n",
    "print('Good bye !!!!')\n",
    "    "
   ]
  },
  {
   "cell_type": "code",
   "execution_count": 3,
   "id": "9d80dad7-61a7-41cc-9d19-ba6e2592f2d5",
   "metadata": {},
   "outputs": [
    {
     "name": "stdout",
     "output_type": "stream",
     "text": [
      "True\n"
     ]
    }
   ],
   "source": [
    "x=10\n",
    "y=10.0\n",
    "print(y==x)"
   ]
  },
  {
   "cell_type": "code",
   "execution_count": 27,
   "id": "d44bff85-6c65-41a1-b51b-63c667ff85de",
   "metadata": {},
   "outputs": [
    {
     "name": "stdin",
     "output_type": "stream",
     "text": [
      "Enter Mth Marks :  50\n",
      "Enter Phy Marks :  60\n",
      "Enter Chem Marks :  55\n",
      "Enter Bio Marks :  54\n",
      "Enter Hindi Marks :  53\n"
     ]
    },
    {
     "name": "stdout",
     "output_type": "stream",
     "text": [
      "54.400000000000006\n",
      "Grade is B\n"
     ]
    }
   ],
   "source": [
    "Math=int(input('Enter Mth Marks : '))\n",
    "Phy=int(input('Enter Phy Marks : '))\n",
    "CHem=int(input('Enter Chem Marks : '))\n",
    "Bio=int(input('Enter Bio Marks : '))\n",
    "Hindi=int(input('Enter Hindi Marks : '))\n",
    "ToTal_Percentage=(float((Math+Phy+CHem+Bio+Hindi))/500)*100\n",
    "print(ToTal_Percentage)\n",
    "if ToTal_Percentage>90:\n",
    "    print('Grade is A+')\n",
    "elif 70<ToTal_Percentage<=80:\n",
    "    print('Grade is A')\n",
    "elif 60<ToTal_Percentage<=70:\n",
    "    print('Grade is B+')\n",
    "elif 50<ToTal_Percentage<=60:\n",
    "    print('Grade is B')\n",
    "elif 40<ToTal_Percentage<=50:\n",
    "    print('Grade is C')\n",
    "elif 35<ToTal_Percentage<=40:\n",
    "    print('Grade is D')\n",
    "else :\n",
    "    print('Grade is F')\n",
    "    \n",
    "\n"
   ]
  },
  {
   "cell_type": "markdown",
   "id": "acd3ea83-5190-4790-8730-b309276c1e7b",
   "metadata": {},
   "source": [
    "## Date 6 Sept 2024"
   ]
  },
  {
   "cell_type": "code",
   "execution_count": 9,
   "id": "ee1ad356-5203-4616-990e-81eb8fa9e36c",
   "metadata": {},
   "outputs": [
    {
     "name": "stdout",
     "output_type": "stream",
     "text": [
      "False\n"
     ]
    }
   ],
   "source": [
    "print(type(3.0) is not float)"
   ]
  },
  {
   "cell_type": "code",
   "execution_count": 13,
   "id": "92d2ecd0-1578-478f-8896-da4e29d61379",
   "metadata": {},
   "outputs": [
    {
     "name": "stdout",
     "output_type": "stream",
     "text": [
      "<class 'dict'>\n"
     ]
    }
   ],
   "source": [
    "# type({})\n",
    "x={}\n",
    "print(type(x))"
   ]
  },
  {
   "cell_type": "code",
   "execution_count": 23,
   "id": "eca00da2-23b0-4211-8356-8552b1465ffb",
   "metadata": {},
   "outputs": [
    {
     "name": "stdout",
     "output_type": "stream",
     "text": [
      "frozenset['1', '2']\n",
      "<class 'types.GenericAlias'>\n"
     ]
    }
   ],
   "source": [
    "x=frozenset[\"1\",\"2\"]\n",
    "print(x)\n",
    "print(type(x))"
   ]
  },
  {
   "cell_type": "code",
   "execution_count": 30,
   "id": "3c8773ac-3a49-4873-82f6-46ac5ed8c136",
   "metadata": {},
   "outputs": [
    {
     "name": "stdout",
     "output_type": "stream",
     "text": [
      "3\n"
     ]
    }
   ],
   "source": [
    "a=5\n",
    "b=2\n",
    "print(a//b+a%b) #floor division"
   ]
  },
  {
   "cell_type": "code",
   "execution_count": 36,
   "id": "75a7e48b-e455-40ea-98ce-0c0293779d87",
   "metadata": {},
   "outputs": [
    {
     "name": "stdout",
     "output_type": "stream",
     "text": [
      "512\n"
     ]
    }
   ],
   "source": [
    "print(2**3**2)  ## R->L"
   ]
  },
  {
   "cell_type": "code",
   "execution_count": 38,
   "id": "b682d775-6375-4529-80ba-5d49f386c8c3",
   "metadata": {},
   "outputs": [
    {
     "name": "stdout",
     "output_type": "stream",
     "text": [
      "2\n"
     ]
    }
   ],
   "source": [
    "x=2\n",
    "y=5\n",
    "print(x**y%3)"
   ]
  },
  {
   "cell_type": "code",
   "execution_count": 42,
   "id": "ea3462f9-94f5-458d-8225-e9eb916a9ff5",
   "metadata": {},
   "outputs": [
    {
     "name": "stdout",
     "output_type": "stream",
     "text": [
      "-4\n",
      "3\n"
     ]
    }
   ],
   "source": [
    "print(-10//3)\n",
    "print(5&3|2)"
   ]
  },
  {
   "cell_type": "code",
   "execution_count": 44,
   "id": "f188da9a-cee6-42ef-854c-b96d7f7e5ad7",
   "metadata": {},
   "outputs": [
    {
     "name": "stdout",
     "output_type": "stream",
     "text": [
      "4\n",
      "2\n"
     ]
    }
   ],
   "source": [
    "print(5^3&1)\n",
    "print(5<<1&3)"
   ]
  },
  {
   "cell_type": "code",
   "execution_count": 46,
   "id": "e71af054-52db-400a-b474-5763de041d05",
   "metadata": {},
   "outputs": [
    {
     "name": "stdout",
     "output_type": "stream",
     "text": [
      "True\n"
     ]
    }
   ],
   "source": [
    "a=[1,2,3]\n",
    "print(4 not in a and 2 in a)"
   ]
  },
  {
   "cell_type": "code",
   "execution_count": 50,
   "id": "c837f48c-7a68-4969-a2f2-16b1963c2578",
   "metadata": {},
   "outputs": [
    {
     "name": "stdout",
     "output_type": "stream",
     "text": [
      "True\n"
     ]
    }
   ],
   "source": [
    "print(2**3>5 and 5<2+2*2)"
   ]
  },
  {
   "cell_type": "markdown",
   "id": "2c7fbb08-f9d5-4d73-ae98-e72600265c09",
   "metadata": {},
   "source": [
    "## Armstrong "
   ]
  },
  {
   "cell_type": "code",
   "execution_count": 54,
   "id": "af744e96-5055-46a4-b715-3217be996856",
   "metadata": {},
   "outputs": [
    {
     "name": "stdin",
     "output_type": "stream",
     "text": [
      "ENter a number :  87\n"
     ]
    },
    {
     "name": "stdout",
     "output_type": "stream",
     "text": [
      "87 is not an armstrong number\n"
     ]
    }
   ],
   "source": [
    "num=int(input(\"ENter a number : \"))\n",
    "num_digit=len(str(num))\n",
    "sum_of_powers=0\n",
    "temp=num\n",
    "while temp>0:\n",
    "    digit=temp%10\n",
    "    sum_of_powers+=digit**num_digit\n",
    "    temp//=10\n",
    "if sum_of_powers==num:\n",
    "    print(f\"{num} is an armstrong number\")\n",
    "else :\n",
    "    print(f\"{num} is not an armstrong number\")"
   ]
  },
  {
   "cell_type": "markdown",
   "id": "cdd1d7c8-a2b4-401c-9552-30913323aa1a",
   "metadata": {},
   "source": [
    "## Factorial"
   ]
  },
  {
   "cell_type": "code",
   "execution_count": 13,
   "id": "12f2870e-8c13-4a6f-82bb-1723bec3928b",
   "metadata": {},
   "outputs": [
    {
     "name": "stdin",
     "output_type": "stream",
     "text": [
      "Enter a number :  5\n"
     ]
    },
    {
     "name": "stdout",
     "output_type": "stream",
     "text": [
      "1\n",
      "2\n",
      "6\n",
      "24\n",
      "120\n"
     ]
    }
   ],
   "source": [
    "x=int(input(\"Enter a number : \"))\n",
    "fact=1\n",
    "for i in range(1, x+1):\n",
    "    fact=fact*i\n",
    "    print(fact)\n",
    "#print(fact)\n"
   ]
  },
  {
   "cell_type": "markdown",
   "id": "5d4e814c-061d-481b-a9b1-204ddbfe1414",
   "metadata": {},
   "source": [
    "## Fibonacci"
   ]
  },
  {
   "cell_type": "code",
   "execution_count": 8,
   "id": "3472407f-7e7f-47d6-b522-1f4cd4a82adf",
   "metadata": {},
   "outputs": [
    {
     "name": "stdout",
     "output_type": "stream",
     "text": [
      "fibonacci series upto 15 numbers:\n",
      "0 1 1 2 3 5 8 13 21 34 "
     ]
    }
   ],
   "source": [
    "a,b=0,1\n",
    "print(\"fibonacci series upto 15 numbers:\")\n",
    "for _ in range(10):\n",
    "    print(a,end=\" \")\n",
    "    a,b=b,a+b"
   ]
  },
  {
   "cell_type": "markdown",
   "id": "06877f6e-1cd5-4402-b312-c013427f19d9",
   "metadata": {},
   "source": [
    "## Calculator opeation by user\n"
   ]
  },
  {
   "cell_type": "code",
   "execution_count": 11,
   "id": "10f6515f-422c-4b05-bf8a-ddeb86a541f5",
   "metadata": {},
   "outputs": [
    {
     "name": "stdin",
     "output_type": "stream",
     "text": [
      "Enter the choice :  -\n",
      "Enter the number 1 :  5\n",
      "Enter the number 2 :  3\n"
     ]
    },
    {
     "name": "stdout",
     "output_type": "stream",
     "text": [
      "2\n"
     ]
    }
   ],
   "source": [
    "choice=input(\"Enter the choice : \")\n",
    "num1=int(input(\"Enter the number 1 : \"))\n",
    "num2=int(input(\"Enter the number 2 : \"))\n",
    "if (choice=='+'):\n",
    "    print(num1+num2)\n",
    "elif (choice=='-'):\n",
    "    print(num1-num2)\n",
    "elif (choice=='*'):\n",
    "    print(num1*num2)\n",
    "elif(choice=='/'):\n",
    "    print(num1/num2)\n",
    "else:\n",
    "    print(\"Wrong operator input \")"
   ]
  },
  {
   "cell_type": "markdown",
   "id": "75310d31-7013-4039-875d-c07d60154562",
   "metadata": {},
   "source": [
    "## Checking whether a number is strong or not "
   ]
  },
  {
   "cell_type": "code",
   "execution_count": 22,
   "id": "904713fe-ea0b-41a0-9c86-5ebe9f602632",
   "metadata": {},
   "outputs": [
    {
     "name": "stdin",
     "output_type": "stream",
     "text": [
      "Enter the number :  124\n"
     ]
    },
    {
     "name": "stdout",
     "output_type": "stream",
     "text": [
      "Not a strong number\n"
     ]
    }
   ],
   "source": [
    "num=int(input(\"Enter the number : \"))\n",
    "org=num\n",
    "factorial=0\n",
    "def fact(num):\n",
    "    fact=1\n",
    "    for i in range(1,num+1):\n",
    "        fact=fact*i\n",
    "    #print(fact)\n",
    "    return fact\n",
    "while num>0 :\n",
    "    digit=num%10\n",
    "    factorial=factorial+fact(digit)\n",
    "    num=num//10\n",
    "if(factorial==org):\n",
    "    print(\"Its a stong number \")\n",
    "else:\n",
    "    print(\"Not a strong number\")"
   ]
  },
  {
   "cell_type": "markdown",
   "id": "d998a9d1-4300-4a9a-9e02-6af356f5e913",
   "metadata": {},
   "source": [
    "## Fibonacci Through Recursion\n"
   ]
  },
  {
   "cell_type": "code",
   "execution_count": null,
   "id": "60f41452-2b61-4b2f-bd5c-28beda284697",
   "metadata": {},
   "outputs": [
    {
     "name": "stdout",
     "output_type": "stream",
     "text": [
      "1 1 2 3 5 8 13 21 34 55 89 144 233 377 610 987 1597 2584 4181 6765 10946 17711 28657 46368 75025 121393 196418 317811 514229 832040 1346269 2178309 3524578 5702887 9227465 14930352 24157817 39088169 63245986 102334155 165580141 267914296 433494437 701408733 "
     ]
    }
   ],
   "source": [
    "def fib(n):\n",
    "    if n==0:\n",
    "        return 0\n",
    "    elif n==1:\n",
    "        return 1\n",
    "    else :\n",
    "        return fib(n-1)+fib(n-2)\n",
    "for i in range(1,101):\n",
    "    print(fib(i),end=' ')"
   ]
  },
  {
   "cell_type": "markdown",
   "id": "5447deb6-faf8-416d-af48-4fe6613e6da4",
   "metadata": {},
   "source": [
    "# Date : 20-09-2024"
   ]
  },
  {
   "cell_type": "markdown",
   "id": "2267d9e7-ef0f-4001-83e9-29b49ea03778",
   "metadata": {},
   "source": [
    "### WAP to find the factorial of any number using reduce function"
   ]
  },
  {
   "cell_type": "code",
   "execution_count": null,
   "id": "8c2dd8de-3118-4a75-aee5-897d2a038c3c",
   "metadata": {},
   "outputs": [],
   "source": [
    "num=int(input(\"Enter the number to get its factorial : \"))\n",
    "res=reduce(lambda num,)"
   ]
  }
 ],
 "metadata": {
  "kernelspec": {
   "display_name": "Python 3 (ipykernel)",
   "language": "python",
   "name": "python3"
  },
  "language_info": {
   "codemirror_mode": {
    "name": "ipython",
    "version": 3
   },
   "file_extension": ".py",
   "mimetype": "text/x-python",
   "name": "python",
   "nbconvert_exporter": "python",
   "pygments_lexer": "ipython3",
   "version": "3.12.4"
  }
 },
 "nbformat": 4,
 "nbformat_minor": 5
}
