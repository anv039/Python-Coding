{
 "cells": [
  {
   "cell_type": "markdown",
   "id": "5d161660-d068-4d22-b181-673b3208eaf1",
   "metadata": {},
   "source": [
    "### Write a program to create a class called \"Person\" with a name and age attribute. Create two instances of the \"Person\" class, set their attributes using the constructor, and print their name and age. "
   ]
  },
  {
   "cell_type": "code",
   "execution_count": 2,
   "id": "40e8e67c-4a24-4324-93d5-0fefad275a5a",
   "metadata": {},
   "outputs": [
    {
     "name": "stdout",
     "output_type": "stream",
     "text": [
      "Name: Alice, Age: 30\n",
      "Name: Bob, Age: 25\n"
     ]
    }
   ],
   "source": [
    "class Person:\n",
    "    def __init__(self, name, age):\n",
    "        self.name = name\n",
    "        self.age = age\n",
    "\n",
    "person1 = Person(\"Alice\", 30)\n",
    "person2 = Person(\"Bob\", 25)\n",
    "\n",
    "print(f\"Name: {person1.name}, Age: {person1.age}\")\n",
    "print(f\"Name: {person2.name}, Age: {person2.age}\")\n"
   ]
  },
  {
   "cell_type": "markdown",
   "id": "aba61244-d271-428b-9a5f-33536addf73d",
   "metadata": {},
   "source": [
    "### 2. Create a class named 'Student' with String variable 'name' and integer variable 'roll_no'. Assign the value of roll no as '2' and that of name as \"John\" by creating an object of the class Student"
   ]
  },
  {
   "cell_type": "code",
   "execution_count": 5,
   "id": "f502ee0b-5d5a-4bfe-95fc-80ba336a9710",
   "metadata": {},
   "outputs": [
    {
     "name": "stdout",
     "output_type": "stream",
     "text": [
      "Name: John, Roll No: 2\n"
     ]
    }
   ],
   "source": [
    "class Student:\n",
    "    def __init__(self, name, roll_no):\n",
    "        self.name = name\n",
    "        self.roll_no = roll_no\n",
    "\n",
    "student1 = Student(\"John\", 2)\n",
    "print(f\"Name: {student1.name}, Roll No: {student1.roll_no}\")\n"
   ]
  },
  {
   "cell_type": "markdown",
   "id": "ad5fb4af-d5ca-45f1-920d-ee192ca4ee24",
   "metadata": {},
   "source": [
    "### 3. Write a program to define a class to represent a bank account, with methods to deposit, withdraw, and check the balance."
   ]
  },
  {
   "cell_type": "code",
   "execution_count": 8,
   "id": "7786b0e7-cff9-4e35-a0e1-4642fe021e3f",
   "metadata": {},
   "outputs": [
    {
     "name": "stdout",
     "output_type": "stream",
     "text": [
      "Current balance: $100.00\n",
      "Deposited: $50.00\n",
      "Current balance: $150.00\n",
      "Withdrew: $30.00\n",
      "Current balance: $120.00\n",
      "Insufficient funds.\n"
     ]
    }
   ],
   "source": [
    "class BankAccount:\n",
    "    def __init__(self, account_number, initial_balance=0):\n",
    "        self.account_number = account_number\n",
    "        self.balance = initial_balance\n",
    "\n",
    "    def deposit(self, amount):\n",
    "        if amount > 0:\n",
    "            self.balance += amount\n",
    "            print(f\"Deposited: ${amount:.2f}\")\n",
    "        else:\n",
    "            print(\"Deposit amount must be positive.\")\n",
    "\n",
    "    def withdraw(self, amount):\n",
    "        if amount > 0 and amount <= self.balance:\n",
    "            self.balance -= amount\n",
    "            print(f\"Withdrew: ${amount:.2f}\")\n",
    "        elif amount > self.balance:\n",
    "            print(\"Insufficient funds.\")\n",
    "        else:\n",
    "            print(\"Withdrawal amount must be positive.\")\n",
    "\n",
    "    def check_balance(self):\n",
    "        print(f\"Current balance: ${self.balance:.2f}\")\n",
    "\n",
    "account = BankAccount(\"123456\", 100)\n",
    "account.check_balance()\n",
    "account.deposit(50)\n",
    "account.check_balance()\n",
    "account.withdraw(30)\n",
    "account.check_balance()\n",
    "account.withdraw(150)\n"
   ]
  },
  {
   "cell_type": "markdown",
   "id": "c7327628-cf08-47ed-b421-12b98e18f226",
   "metadata": {},
   "source": [
    "### 4. Write a program to define a class Student with attributes like name and age, and create objects to represent different students"
   ]
  },
  {
   "cell_type": "code",
   "execution_count": 11,
   "id": "bf85bb6d-4ca5-449e-b445-5b44df20c2d3",
   "metadata": {},
   "outputs": [
    {
     "name": "stdout",
     "output_type": "stream",
     "text": [
      "Student 1: Name: Alice, Age: 20\n",
      "Student 2: Name: Bob, Age: 22\n",
      "Student 3: Name: Charlie, Age: 19\n"
     ]
    }
   ],
   "source": [
    "class Student:\n",
    "    def __init__(self, name, age):\n",
    "        self.name = name\n",
    "        self.age = age\n",
    "\n",
    "student1 = Student(\"Alice\", 20)\n",
    "student2 = Student(\"Bob\", 22)\n",
    "student3 = Student(\"Charlie\", 19)\n",
    "\n",
    "print(f\"Student 1: Name: {student1.name}, Age: {student1.age}\")\n",
    "print(f\"Student 2: Name: {student2.name}, Age: {student2.age}\")\n",
    "print(f\"Student 3: Name: {student3.name}, Age: {student3.age}\")\n"
   ]
  },
  {
   "cell_type": "code",
   "execution_count": null,
   "id": "c8bc51d5-57c0-46ba-b589-40e27a4c3c29",
   "metadata": {},
   "outputs": [],
   "source": []
  }
 ],
 "metadata": {
  "kernelspec": {
   "display_name": "anaconda-ai-2024.04-py310",
   "language": "python",
   "name": "conda-env-anaconda-ai-2024.04-py310-py"
  },
  "language_info": {
   "codemirror_mode": {
    "name": "ipython",
    "version": 3
   },
   "file_extension": ".py",
   "mimetype": "text/x-python",
   "name": "python",
   "nbconvert_exporter": "python",
   "pygments_lexer": "ipython3",
   "version": "3.10.13"
  }
 },
 "nbformat": 4,
 "nbformat_minor": 5
}
